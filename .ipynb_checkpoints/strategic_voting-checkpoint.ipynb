{
 "cells": [
  {
   "cell_type": "code",
   "execution_count": 99,
   "metadata": {},
   "outputs": [],
   "source": [
    "import numpy as np\n",
    "import matplotlib.pyplot as plt\n",
    "import scipy.stats as stats"
   ]
  },
  {
   "cell_type": "markdown",
   "metadata": {},
   "source": [
    "The question comes from [this math exchange post](https://math.stackexchange.com/questions/3497204/honest-vs-dishonest-voting-does-it-matter).\n",
    "\n",
    "We need to simulate two kinds of agents:\n",
    "   1. One set who vote actually based on their preferences - \"true voters\"\n",
    "   2. The other set votes 0, or 10 based on which direction they want the average to move in - \"strategic voters\"\n",
    "\n",
    "Everyone gets randomly assigned a \"true\" preference $p \\in [0, 10]$.\n",
    "\n",
    "\n",
    "Coding wise, its straightforward to generate the votes for the \"true\" voters. It's just equal to their preferences.\n",
    "\n",
    "For the strategic voters we need to think of how the game proceeds:\n",
    "   1. A given strategic voter looks at the current average vote\n",
    "   2. He then calculates how much he needs to vote to move the average close to his preference. The formula he uses for this is simple. Given his true preference $p$, he chooses his vote $v$ based on the current average $A$ and the number of people who have voted already $n$ by the following formula $v = p(n + 1) - An$. Subject to $v \\in [0, 10]$. \n",
    "   3. Time wise in simulations where we mix both types of agents, true voters go first, and then in a random order, the strategic voters follow one by one."
   ]
  },
  {
   "cell_type": "code",
   "execution_count": 87,
   "metadata": {},
   "outputs": [],
   "source": [
    "class truevoter():\n",
    "    \n",
    "    def __init__(self, n, mu = 5, sigma = 1):\n",
    "        # initiate preference matrix\n",
    "        self.prefs = stats.truncnorm(\n",
    "            (0 - mu) / sigma, (10 - mu) / sigma,\n",
    "            loc=mu, scale=sigma).rvs(n)\n",
    "#         self.prefs = np.random.normal(mu, sigma, n)\n",
    "        \n",
    "    def votes(self):\n",
    "        # for these guys their preferences are their votes\n",
    "        votes = self.prefs\n",
    "        \n",
    "        return votes\n",
    "    \n",
    "    def get_output(self):\n",
    "        \n",
    "        # get relevant outputs\n",
    "        true_prefmat = self.prefs\n",
    "        true_votingmat = self.votes()\n",
    "        true_voters_avg = true_votingmat.mean()\n",
    "        \n",
    "        return true_prefmat, true_votingmat, true_voters_avg\n",
    "        \n",
    "class stratvoter():\n",
    "    \n",
    "    def __init__(self, n, mu = 5, sigma = 1):\n",
    "        # initiate preference matrix\n",
    "        self.prefs = stats.truncnorm(\n",
    "            (0 - mu) / sigma, (10 - mu) / sigma,\n",
    "            loc=mu, scale=sigma).rvs(n)\n",
    "#         self.prefs = np.random.normal(mu, sigma, n)\n",
    "        \n",
    "    def votes(self, currentaverage, currentn):\n",
    "        \n",
    "        # update votes iteratively\n",
    "        prefs = self.prefs\n",
    "        A = currentaverage\n",
    "        n = currentn\n",
    "        votes = np.empty_like(prefs)\n",
    "        \n",
    "        for p_i, p in enumerate(prefs):\n",
    "            # get vote of individual\n",
    "            vote = p * (n + 1) - A * n\n",
    "            if vote > 10:\n",
    "                votes[p_i] = 10\n",
    "            elif vote < 0:\n",
    "                votes[p_i] = 0\n",
    "            else:\n",
    "                votes[p_i] = vote\n",
    "            \n",
    "            # update values\n",
    "            n += 1\n",
    "            A = (A * n + votes[p_i])/(n + 1)\n",
    "            \n",
    "        return votes\n",
    "    \n",
    "    def get_output(self, currentaverage, currentn):\n",
    "        \n",
    "        # get relevant outputs\n",
    "        strat_prefmat = self.prefs\n",
    "        strat_votingmat = self.votes(currentaverage, \n",
    "                                currentn)\n",
    "        strat_voters_avg = strat_votingmat.mean()\n",
    "        \n",
    "        return strat_prefmat, strat_votingmat, strat_voters_avg"
   ]
  },
  {
   "cell_type": "code",
   "execution_count": 95,
   "metadata": {},
   "outputs": [],
   "source": [
    "def mc_simul(mu = 1, sigma = 1, n_simul = 1000,\n",
    "            ntrue = 100,\n",
    "            nstrat = 100):\n",
    "\n",
    "    # == Monte Carlo Simulations == #\n",
    "    prefs_avg_mat = np.empty(n_simul)\n",
    "    voting_avg_mat = np.empty_like(prefs_avg_mat)\n",
    "\n",
    "    for i in range(n_simul):\n",
    "        true_prefmat, true_votingmat, true_voters_avg  = (\n",
    "                                                        truevoter(ntrue, \n",
    "                                                               mu = mu,\n",
    "                                                              sigma = sigma)\n",
    "                                                            .get_output()\n",
    "                                                        )\n",
    "        strat_prefmat, strat_votingmat, strat_voters_avg  = (\n",
    "                                                            stratvoter(nstrat, \n",
    "                                                                       mu = mu,\n",
    "                                                                      sigma = sigma)\n",
    "                                                            .get_output(true_voters_avg,\n",
    "                                                                        ntrue)\n",
    "                                                            )\n",
    "\n",
    "        true_pref_avg = (true_prefmat.sum() + strat_prefmat.sum())/(ntrue + nstrat)\n",
    "        actual_vote_avg = (true_votingmat.sum() + strat_votingmat.sum())/(ntrue + nstrat)\n",
    "\n",
    "        prefs_avg_mat[i] = true_pref_avg\n",
    "        voting_avg_mat[i] = actual_vote_avg\n",
    "        \n",
    "    return prefs_avg_mat, voting_avg_mat"
   ]
  },
  {
   "cell_type": "code",
   "execution_count": 96,
   "metadata": {},
   "outputs": [
    {
     "data": {
      "image/png": "[encoded data removed]",
      "text/plain": [
       "<Figure size 648x432 with 1 Axes>"
      ]
     },
     "metadata": {
      "needs_background": "light"
     },
     "output_type": "display_data"
    }
   ],
   "source": [
    "# plotting\n",
    "mu = 1\n",
    "sigma = 1\n",
    "prefs_avg_mat, voting_avg_mat = mc_simul(mu, sigma)\n",
    "fig, ax = plt.subplots(figsize = (9, 6))\n",
    "ax.hist(prefs_avg_mat, label = \"Preference Distribution\", alpha = 0.5, bins = 20)\n",
    "ax.hist(voting_avg_mat, label = \"Voting Distribution\", alpha = 0.5, bins = 20)\n",
    "ax.legend()\n",
    "ax.set_title(f\"Preferences vs Voting $\\mu = {mu}, \\sigma = {sigma}$\")\n",
    "plt.show()"
   ]
  },
  {
   "cell_type": "code",
   "execution_count": 97,
   "metadata": {},
   "outputs": [
    {
     "data": {
      "image/png": "[encoded data removed]",
      "text/plain": [
       "<Figure size 648x432 with 1 Axes>"
      ]
     },
     "metadata": {
      "needs_background": "light"
     },
     "output_type": "display_data"
    }
   ],
   "source": [
    "# plotting\n",
    "mu = 5\n",
    "sigma = 1\n",
    "prefs_avg_mat, voting_avg_mat = mc_simul(mu, sigma)\n",
    "fig, ax = plt.subplots(figsize = (9, 6))\n",
    "ax.hist(prefs_avg_mat, label = \"Preference Distribution\", alpha = 0.5, bins = 20)\n",
    "ax.hist(voting_avg_mat, label = \"Voting Distribution\", alpha = 0.5, bins = 20)\n",
    "ax.legend()\n",
    "ax.set_title(f\"Preferences vs Voting $\\mu = {mu}, \\sigma = {sigma}$\")\n",
    "plt.show()"
   ]
  },
  {
   "cell_type": "code",
   "execution_count": 98,
   "metadata": {},
   "outputs": [
    {
     "data": {
      "image/png": "[encoded data removed]",
      "text/plain": [
       "<Figure size 648x432 with 1 Axes>"
      ]
     },
     "metadata": {
      "needs_background": "light"
     },
     "output_type": "display_data"
    }
   ],
   "source": [
    "# plotting\n",
    "mu = 9\n",
    "sigma = 1\n",
    "prefs_avg_mat, voting_avg_mat = mc_simul(mu, sigma)\n",
    "fig, ax = plt.subplots(figsize = (9, 6))\n",
    "ax.hist(prefs_avg_mat, label = \"Preference Distribution\", alpha = 0.5, bins = 20)\n",
    "ax.hist(voting_avg_mat, label = \"Voting Distribution\", alpha = 0.5, bins = 20)\n",
    "ax.legend()\n",
    "ax.set_title(f\"Preferences vs Voting $\\mu = {mu}, \\sigma = {sigma}$\")\n",
    "plt.show()"
   ]
  },
  {
   "cell_type": "markdown",
   "metadata": {},
   "source": [
    "What we have established is that if the true preference distribution is centered around $\\mu = 5$ (which is the mid point of our domain), voting choice is a consistent estimator of preferences. Note that it may not be efficient since the standard deviation of voting seems to be much larger than the standard deviation of preferences because often times when strategic voters need to shift the vote, they vote either a 0 or a 10, which is unlikely to be their true prefererence.\n",
    "\n",
    "As the preference distribution mean gets closer to the edges of the domain (that is either 0 or 10), we see that voting choice is no longer consistent. It is always biased towards 5 in general. That is, if the mean of preferences is 9, then the mean of voting choices will be lower than 9. if the mean of preferences is 1, then the mean of voting choices will be higher than 1. This is because if the preference distribution is centered around a corner, strategic voters exert less influence individually on the average vote. Therefore there will be more strategic voters who will vote the extreme vote to move the average vote."
   ]
  },
  {
   "cell_type": "code",
   "execution_count": null,
   "metadata": {},
   "outputs": [],
   "source": []
  }
 ],
 "metadata": {
  "kernelspec": {
   "display_name": "Python 3",
   "language": "python",
   "name": "python3"
  },
  "language_info": {
   "codemirror_mode": {
    "name": "ipython",
    "version": 3
   },
   "file_extension": ".py",
   "mimetype": "text/x-python",
   "name": "python",
   "nbconvert_exporter": "python",
   "pygments_lexer": "ipython3",
   "version": "3.6.9"
  }
 },
 "nbformat": 4,
 "nbformat_minor": 4
}
